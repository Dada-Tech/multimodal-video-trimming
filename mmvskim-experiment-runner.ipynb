{
 "metadata": {
  "kernelspec": {
   "language": "python",
   "display_name": "Python 3",
   "name": "python3"
  },
  "language_info": {
   "name": "python",
   "version": "3.10.12",
   "mimetype": "text/x-python",
   "codemirror_mode": {
    "name": "ipython",
    "version": 3
   },
   "pygments_lexer": "ipython3",
   "nbconvert_exporter": "python",
   "file_extension": ".py"
  },
  "kaggle": {
   "accelerator": "none",
   "dataSources": [
    {
     "sourceId": 10808181,
     "sourceType": "datasetVersion",
     "datasetId": 6709099
    }
   ],
   "dockerImageVersionId": 30886,
   "isInternetEnabled": true,
   "language": "python",
   "sourceType": "notebook",
   "isGpuEnabled": false
  }
 },
 "nbformat_minor": 4,
 "nbformat": 4,
 "cells": [
  {
   "cell_type": "markdown",
   "source": [
    "# Multimodal Video Trimming - Experiments"
   ],
   "metadata": {}
  },
  {
   "cell_type": "code",
   "source": [
    "# set to true to run all experiments\n",
    "run_all_experiments_mode = True"
   ],
   "metadata": {
    "trusted": true,
    "execution": {
     "iopub.status.busy": "2025-02-21T20:47:23.643607Z",
     "iopub.execute_input": "2025-02-21T20:47:23.643895Z",
     "iopub.status.idle": "2025-02-21T20:47:23.647815Z",
     "shell.execute_reply.started": "2025-02-21T20:47:23.643839Z",
     "shell.execute_reply": "2025-02-21T20:47:23.646851Z"
    }
   },
   "outputs": [],
   "execution_count": 1
  },
  {
   "cell_type": "markdown",
   "source": [
    "# Hyperparameters"
   ],
   "metadata": {}
  },
  {
   "cell_type": "code",
   "source": [
    "# Auto Summary\n",
    "AUTO_SUMMARY_SUMMARY_LENGTH_PERCENTAGE = 0.3 # Min: 0.2, Max: 0.5\n",
    "AUTO_SUMMARY_MIN_SUMMARY_LENGTH = 30         # Min: 30, Max: 60\n",
    "AUTO_SUMMARY_MAX_SUMMARY_LENGTH = 600        # Min: 100, Max: 1000\n",
    "\n",
    "# Deletion Metric\n",
    "DELETION_METRIC_THRESHOLD = 0.2              # Min: 0.05, Max: 0.5\n",
    "\n",
    "# Metric 1\n",
    "METRIC_1_MODEL_SIZE = \"base\"                 # \"base\", \"large\"\n",
    "METRIC_1_WEIGHT = 1.0                        # Min: 0.0, Max: 1.0\n",
    "\n",
    "# Metric 2\n",
    "METRIC_2_WEIGHT = 0.3                        # Min: 0.0, Max: 1.0\n",
    "METRIC_2_MIN_SCENE_LEN = 15                  # Min: 15, Max: 9000\n",
    "METRIC_2_THRESHOLD = 25                      # Min: 10, Max: 50\n",
    "\n",
    "\n",
    "## --- DEFAULTS ---\n",
    "# DELETION_METRIC_THRESHOLD = 0.2\n",
    "\n",
    "# METRIC_1_WEIGHT = 1.0\n",
    "# METRIC_1_MODEL_SIZE = \"base\"\n",
    "\n",
    "# METRIC_2_WEIGHT = 0.3\n",
    "# METRIC_2_MIN_SCENE_LEN = 15\n",
    "# METRIC_2_THRESHOLD = 25\n",
    "\n",
    "# AUTO_SUMMARY_SUMMARY_LENGTH_PERCENTAGE = 0.3\n",
    "# AUTO_SUMMARY_MIN_SUMMARY_LENGTH = 30\n",
    "# AUTO_SUMMARY_MAX_SUMMARY_LENGTH = 600"
   ],
   "metadata": {
    "trusted": true,
    "execution": {
     "iopub.status.busy": "2025-02-21T20:47:23.649247Z",
     "iopub.execute_input": "2025-02-21T20:47:23.649560Z",
     "iopub.status.idle": "2025-02-21T20:47:23.669800Z",
     "shell.execute_reply.started": "2025-02-21T20:47:23.649529Z",
     "shell.execute_reply": "2025-02-21T20:47:23.669067Z"
    }
   },
   "outputs": [],
   "execution_count": 2
  },
  {
   "cell_type": "markdown",
   "source": [
    "# Environment Setup"
   ],
   "metadata": {}
  },
  {
   "cell_type": "code",
   "source": [
    "import os\n",
    "import sys\n",
    "import shutil\n",
    "from IPython.display import clear_output\n",
    "from IPython.display import FileLink"
   ],
   "metadata": {
    "trusted": true,
    "execution": {
     "iopub.status.busy": "2025-02-21T20:52:26.555933Z",
     "iopub.execute_input": "2025-02-21T20:52:26.556336Z",
     "iopub.status.idle": "2025-02-21T20:52:26.560289Z",
     "shell.execute_reply.started": "2025-02-21T20:52:26.556305Z",
     "shell.execute_reply": "2025-02-21T20:52:26.559291Z"
    }
   },
   "outputs": [],
   "execution_count": 13
  },
  {
   "cell_type": "code",
   "source": [
    "# Update installers\n",
    "!pip install --upgrade pip\n",
    "!sudo apt-get update"
   ],
   "metadata": {
    "trusted": true,
    "execution": {
     "iopub.status.busy": "2025-02-21T20:47:23.687624Z",
     "iopub.execute_input": "2025-02-21T20:47:23.687890Z",
     "iopub.status.idle": "2025-02-21T20:47:34.498865Z",
     "shell.execute_reply.started": "2025-02-21T20:47:23.687864Z",
     "shell.execute_reply": "2025-02-21T20:47:34.498081Z"
    }
   },
   "outputs": [
    {
     "name": "stdout",
     "text": "Requirement already satisfied: pip in /usr/local/lib/python3.10/dist-packages (24.1.2)\nCollecting pip\n  Downloading pip-25.0.1-py3-none-any.whl.metadata (3.7 kB)\nDownloading pip-25.0.1-py3-none-any.whl (1.8 MB)\n\u001B[2K   \u001B[90m━━━━━━━━━━━━━━━━━━━━━━━━━━━━━━━━━━━━━━━━\u001B[0m \u001B[32m1.8/1.8 MB\u001B[0m \u001B[31m25.4 MB/s\u001B[0m eta \u001B[36m0:00:00\u001B[0m00:01\u001B[0m00:01\u001B[0m\n\u001B[?25hInstalling collected packages: pip\n  Attempting uninstall: pip\n    Found existing installation: pip 24.1.2\n    Uninstalling pip-24.1.2:\n      Successfully uninstalled pip-24.1.2\nSuccessfully installed pip-25.0.1\nGet:1 https://cloud.r-project.org/bin/linux/ubuntu jammy-cran40/ InRelease [3,632 B]\nGet:2 https://developer.download.nvidia.com/compute/cuda/repos/ubuntu2204/x86_64  InRelease [1,581 B]\nHit:3 http://archive.ubuntu.com/ubuntu jammy InRelease                         \nGet:4 https://cloud.r-project.org/bin/linux/ubuntu jammy-cran40/ Packages [66.7 kB]\nGet:5 http://security.ubuntu.com/ubuntu jammy-security InRelease [129 kB]      \nGet:6 https://r2u.stat.illinois.edu/ubuntu jammy InRelease [6,555 B]           \nGet:7 https://developer.download.nvidia.com/compute/cuda/repos/ubuntu2204/x86_64  Packages [1,317 kB]\nGet:8 http://archive.ubuntu.com/ubuntu jammy-updates InRelease [128 kB]        \nGet:9 https://r2u.stat.illinois.edu/ubuntu jammy/main all Packages [8,696 kB]  \nGet:10 https://ppa.launchpadcontent.net/deadsnakes/ppa/ubuntu jammy InRelease [18.1 kB]\nGet:11 http://security.ubuntu.com/ubuntu jammy-security/main amd64 Packages [2,610 kB]\nGet:12 https://ppa.launchpadcontent.net/graphics-drivers/ppa/ubuntu jammy InRelease [24.3 kB]\nGet:13 http://archive.ubuntu.com/ubuntu jammy-backports InRelease [127 kB]     \nHit:14 https://ppa.launchpadcontent.net/ubuntugis/ppa/ubuntu jammy InRelease   \nGet:15 https://r2u.stat.illinois.edu/ubuntu jammy/main amd64 Packages [2,662 kB]\nGet:16 http://archive.ubuntu.com/ubuntu jammy-updates/universe amd64 Packages [1,526 kB]\nGet:17 https://ppa.launchpadcontent.net/deadsnakes/ppa/ubuntu jammy/main amd64 Packages [34.0 kB]\nGet:18 https://ppa.launchpadcontent.net/graphics-drivers/ppa/ubuntu jammy/main amd64 Packages [57.8 kB]\nGet:19 http://security.ubuntu.com/ubuntu jammy-security/universe amd64 Packages [1,230 kB]\nGet:20 http://archive.ubuntu.com/ubuntu jammy-updates/restricted amd64 Packages [3,793 kB]\nGet:21 http://security.ubuntu.com/ubuntu jammy-security/restricted amd64 Packages [3,612 kB]\nGet:22 http://archive.ubuntu.com/ubuntu jammy-updates/main amd64 Packages [2,939 kB]\nFetched 29.0 MB in 3s (10.8 MB/s)                                              \nReading package lists... Done\nW: Skipping acquire of configured file 'main/source/Sources' as repository 'https://r2u.stat.illinois.edu/ubuntu jammy InRelease' does not seem to provide it (sources.list entry misspelt?)\n",
     "output_type": "stream"
    }
   ],
   "execution_count": 4
  },
  {
   "cell_type": "code",
   "source": [
    "# ffmpeg\n",
    "!sudo apt-get install -y ffmpeg"
   ],
   "metadata": {
    "trusted": true,
    "execution": {
     "iopub.status.busy": "2025-02-21T20:47:34.501091Z",
     "iopub.execute_input": "2025-02-21T20:47:34.501317Z",
     "iopub.status.idle": "2025-02-21T20:47:36.637520Z",
     "shell.execute_reply.started": "2025-02-21T20:47:34.501298Z",
     "shell.execute_reply": "2025-02-21T20:47:36.636486Z"
    }
   },
   "outputs": [
    {
     "name": "stdout",
     "text": "Reading package lists... Done\nBuilding dependency tree... Done\nReading state information... Done\nffmpeg is already the newest version (7:4.4.2-0ubuntu0.22.04.1).\n0 upgraded, 0 newly installed, 0 to remove and 135 not upgraded.\n",
     "output_type": "stream"
    }
   ],
   "execution_count": 5
  },
  {
   "cell_type": "markdown",
   "source": [
    "# Clone Project"
   ],
   "metadata": {}
  },
  {
   "cell_type": "code",
   "source": [
    "project_dir = '/kaggle/working/multimodal-video-trimming'\n",
    "\n",
    "# Check if the directory exists\n",
    "if os.path.exists(project_dir):\n",
    "    # Change to the project directory\n",
    "    os.chdir(project_dir)\n",
    "    # Pull the latest changes from the repository\n",
    "    !git pull origin main  # Replace \"main\" with your branch name if different\n",
    "else:\n",
    "    # Clone the project if it doesn't exist\n",
    "    !git clone https://github.com/Dada-Tech/multimodal-video-trimming.git\n",
    "    # Change to the project directory\n",
    "    os.chdir(project_dir)"
   ],
   "metadata": {
    "trusted": true,
    "execution": {
     "iopub.status.busy": "2025-02-21T20:47:36.639503Z",
     "iopub.execute_input": "2025-02-21T20:47:36.639888Z",
     "iopub.status.idle": "2025-02-21T20:47:37.566561Z",
     "shell.execute_reply.started": "2025-02-21T20:47:36.639853Z",
     "shell.execute_reply": "2025-02-21T20:47:37.565585Z"
    }
   },
   "outputs": [
    {
     "name": "stdout",
     "text": "Cloning into 'multimodal-video-trimming'...\nremote: Enumerating objects: 595, done.\u001B[K\nremote: Counting objects: 100% (103/103), done.\u001B[K4/103)\u001B[K\nremote: Compressing objects: 100% (87/87), done.\u001B[K\nremote: Total 595 (delta 62), reused 38 (delta 16), pack-reused 492 (from 1)\u001B[K\nReceiving objects: 100% (595/595), 827.30 KiB | 16.55 MiB/s, done.\nResolving deltas: 100% (302/302), done.\n",
     "output_type": "stream"
    }
   ],
   "execution_count": 6
  },
  {
   "cell_type": "code",
   "source": [
    "# Install requirements\n",
    "!pip install -r requirements.txt"
   ],
   "metadata": {
    "trusted": true,
    "execution": {
     "iopub.status.busy": "2025-02-21T20:47:37.567463Z",
     "iopub.execute_input": "2025-02-21T20:47:37.567686Z",
     "iopub.status.idle": "2025-02-21T20:48:10.223613Z",
     "shell.execute_reply.started": "2025-02-21T20:47:37.567666Z",
     "shell.execute_reply": "2025-02-21T20:48:10.222774Z"
    }
   },
   "outputs": [
    {
     "name": "stdout",
     "text": "Looking in indexes: https://pypi.org/simple, https://download.pytorch.org/whl/cpu\nRequirement already satisfied: torch>=2 in /usr/local/lib/python3.10/dist-packages (from -r requirements.txt (line 5)) (2.5.1+cu121)\nRequirement already satisfied: torchaudio>=2 in /usr/local/lib/python3.10/dist-packages (from -r requirements.txt (line 6)) (2.5.1+cu121)\nCollecting faster-whisper==1.1.0 (from -r requirements.txt (line 7))\n  Downloading faster_whisper-1.1.0-py3-none-any.whl.metadata (16 kB)\nCollecting ctranslate2<4.5.0 (from -r requirements.txt (line 8))\n  Downloading ctranslate2-4.4.0-cp310-cp310-manylinux_2_17_x86_64.manylinux2014_x86_64.whl.metadata (10 kB)\nRequirement already satisfied: transformers in /usr/local/lib/python3.10/dist-packages (from -r requirements.txt (line 9)) (4.47.0)\nRequirement already satisfied: pandas in /usr/local/lib/python3.10/dist-packages (from -r requirements.txt (line 10)) (2.2.3)\nRequirement already satisfied: setuptools>=65 in /usr/local/lib/python3.10/dist-packages (from -r requirements.txt (line 11)) (75.1.0)\nRequirement already satisfied: nltk in /usr/local/lib/python3.10/dist-packages (from -r requirements.txt (line 12)) (3.2.4)\nCollecting datasets==3.3.1 (from -r requirements.txt (line 14))\n  Downloading datasets-3.3.1-py3-none-any.whl.metadata (19 kB)\nCollecting deepmultilingualpunctuation==1.0.1 (from -r requirements.txt (line 15))\n  Downloading deepmultilingualpunctuation-1.0.1-py3-none-any.whl.metadata (4.0 kB)\nRequirement already satisfied: gdown==5.2.0 in /usr/local/lib/python3.10/dist-packages (from -r requirements.txt (line 16)) (5.2.0)\nRequirement already satisfied: numpy==1.26.4 in /usr/local/lib/python3.10/dist-packages (from -r requirements.txt (line 18)) (1.26.4)\nCollecting pytextrank==3.3.0 (from -r requirements.txt (line 19))\n  Downloading pytextrank-3.3.0-py3-none-any.whl.metadata (12 kB)\nRequirement already satisfied: pydub==0.25.1 in /usr/local/lib/python3.10/dist-packages (from -r requirements.txt (line 20)) (0.25.1)\nCollecting pymediainfo==7.0.1 (from -r requirements.txt (line 21))\n  Downloading pymediainfo-7.0.1-py3-none-manylinux_2_27_x86_64.whl.metadata (9.0 kB)\nCollecting silero-vad==5.1.2 (from -r requirements.txt (line 22))\n  Downloading silero_vad-5.1.2-py3-none-any.whl.metadata (7.9 kB)\nCollecting spacy==3.8.4 (from -r requirements.txt (line 23))\n  Downloading spacy-3.8.4-cp310-cp310-manylinux_2_17_x86_64.manylinux2014_x86_64.whl.metadata (27 kB)\nCollecting srt==3.5.3 (from -r requirements.txt (line 25))\n  Downloading srt-3.5.3.tar.gz (28 kB)\n  Preparing metadata (setup.py) ... \u001B[?25l\u001B[?25hdone\nCollecting ffmpeg-python==0.2.0 (from -r requirements.txt (line 26))\n  Downloading ffmpeg_python-0.2.0-py3-none-any.whl.metadata (1.7 kB)\nCollecting scenedetect==0.6.5.2 (from scenedetect[opencv-headless]==0.6.5.2->-r requirements.txt (line 27))\n  Downloading scenedetect-0.6.5.2-py3-none-any.whl.metadata (4.0 kB)\nCollecting whisperx (from -r requirements.txt (line 29))\n  Downloading whisperx-3.3.1-py3-none-any.whl.metadata (15 kB)\nRequirement already satisfied: huggingface-hub>=0.13 in /usr/local/lib/python3.10/dist-packages (from faster-whisper==1.1.0->-r requirements.txt (line 7)) (0.28.1)\nRequirement already satisfied: tokenizers<1,>=0.13 in /usr/local/lib/python3.10/dist-packages (from faster-whisper==1.1.0->-r requirements.txt (line 7)) (0.21.0)\nCollecting onnxruntime<2,>=1.14 (from faster-whisper==1.1.0->-r requirements.txt (line 7))\n  Downloading onnxruntime-1.20.1-cp310-cp310-manylinux_2_27_x86_64.manylinux_2_28_x86_64.whl.metadata (4.5 kB)\nCollecting av>=11 (from faster-whisper==1.1.0->-r requirements.txt (line 7))\n  Downloading av-14.1.0-cp310-cp310-manylinux_2_17_x86_64.manylinux2014_x86_64.whl.metadata (4.7 kB)\nRequirement already satisfied: tqdm in /usr/local/lib/python3.10/dist-packages (from faster-whisper==1.1.0->-r requirements.txt (line 7)) (4.67.1)\nRequirement already satisfied: filelock in /usr/local/lib/python3.10/dist-packages (from datasets==3.3.1->-r requirements.txt (line 14)) (3.17.0)\nRequirement already satisfied: pyarrow>=15.0.0 in /usr/local/lib/python3.10/dist-packages (from datasets==3.3.1->-r requirements.txt (line 14)) (19.0.0)\nRequirement already satisfied: dill<0.3.9,>=0.3.0 in /usr/local/lib/python3.10/dist-packages (from datasets==3.3.1->-r requirements.txt (line 14)) (0.3.8)\nRequirement already satisfied: requests>=2.32.2 in /usr/local/lib/python3.10/dist-packages (from datasets==3.3.1->-r requirements.txt (line 14)) (2.32.3)\nRequirement already satisfied: xxhash in /usr/local/lib/python3.10/dist-packages (from datasets==3.3.1->-r requirements.txt (line 14)) (3.5.0)\nRequirement already satisfied: multiprocess<0.70.17 in /usr/local/lib/python3.10/dist-packages (from datasets==3.3.1->-r requirements.txt (line 14)) (0.70.16)\nRequirement already satisfied: fsspec<=2024.12.0,>=2023.1.0 in /usr/local/lib/python3.10/dist-packages (from fsspec[http]<=2024.12.0,>=2023.1.0->datasets==3.3.1->-r requirements.txt (line 14)) (2024.9.0)\nRequirement already satisfied: aiohttp in /usr/local/lib/python3.10/dist-packages (from datasets==3.3.1->-r requirements.txt (line 14)) (3.11.11)\nRequirement already satisfied: packaging in /usr/local/lib/python3.10/dist-packages (from datasets==3.3.1->-r requirements.txt (line 14)) (24.2)\nRequirement already satisfied: pyyaml>=5.1 in /usr/local/lib/python3.10/dist-packages (from datasets==3.3.1->-r requirements.txt (line 14)) (6.0.2)\nRequirement already satisfied: beautifulsoup4 in /usr/local/lib/python3.10/dist-packages (from gdown==5.2.0->-r requirements.txt (line 16)) (4.12.3)\nRequirement already satisfied: mkl_fft in /usr/local/lib/python3.10/dist-packages (from numpy==1.26.4->-r requirements.txt (line 18)) (1.3.8)\nRequirement already satisfied: mkl_random in /usr/local/lib/python3.10/dist-packages (from numpy==1.26.4->-r requirements.txt (line 18)) (1.2.4)\nRequirement already satisfied: mkl_umath in /usr/local/lib/python3.10/dist-packages (from numpy==1.26.4->-r requirements.txt (line 18)) (0.1.1)\nRequirement already satisfied: mkl in /usr/local/lib/python3.10/dist-packages (from numpy==1.26.4->-r requirements.txt (line 18)) (2025.0.1)\nRequirement already satisfied: tbb4py in /usr/local/lib/python3.10/dist-packages (from numpy==1.26.4->-r requirements.txt (line 18)) (2022.0.0)\nRequirement already satisfied: mkl-service in /usr/local/lib/python3.10/dist-packages (from numpy==1.26.4->-r requirements.txt (line 18)) (2.4.1)\nRequirement already satisfied: GitPython>=3.1 in /usr/local/lib/python3.10/dist-packages (from pytextrank==3.3.0->-r requirements.txt (line 19)) (3.1.43)\nRequirement already satisfied: graphviz>=0.13 in /usr/local/lib/python3.10/dist-packages (from pytextrank==3.3.0->-r requirements.txt (line 19)) (0.20.3)\nCollecting icecream>=2.1 (from pytextrank==3.3.0->-r requirements.txt (line 19))\n  Downloading icecream-2.1.4-py3-none-any.whl.metadata (1.3 kB)\nRequirement already satisfied: networkx>=2.6 in /usr/local/lib/python3.10/dist-packages (from networkx[default]>=2.6->pytextrank==3.3.0->-r requirements.txt (line 19)) (3.4.2)\nRequirement already satisfied: pygments>=2.7.4 in /usr/local/lib/python3.10/dist-packages (from pytextrank==3.3.0->-r requirements.txt (line 19)) (2.19.1)\nRequirement already satisfied: scipy>=1.7 in /usr/local/lib/python3.10/dist-packages (from pytextrank==3.3.0->-r requirements.txt (line 19)) (1.13.1)\nRequirement already satisfied: spacy-legacy<3.1.0,>=3.0.11 in /usr/local/lib/python3.10/dist-packages (from spacy==3.8.4->-r requirements.txt (line 23)) (3.0.12)\nRequirement already satisfied: spacy-loggers<2.0.0,>=1.0.0 in /usr/local/lib/python3.10/dist-packages (from spacy==3.8.4->-r requirements.txt (line 23)) (1.0.5)\nRequirement already satisfied: murmurhash<1.1.0,>=0.28.0 in /usr/local/lib/python3.10/dist-packages (from spacy==3.8.4->-r requirements.txt (line 23)) (1.0.11)\nRequirement already satisfied: cymem<2.1.0,>=2.0.2 in /usr/local/lib/python3.10/dist-packages (from spacy==3.8.4->-r requirements.txt (line 23)) (2.0.10)\nRequirement already satisfied: preshed<3.1.0,>=3.0.2 in /usr/local/lib/python3.10/dist-packages (from spacy==3.8.4->-r requirements.txt (line 23)) (3.0.9)\nCollecting thinc<8.4.0,>=8.3.4 (from spacy==3.8.4->-r requirements.txt (line 23))\n  Downloading thinc-8.3.4-cp310-cp310-manylinux_2_17_x86_64.manylinux2014_x86_64.whl.metadata (15 kB)\nRequirement already satisfied: wasabi<1.2.0,>=0.9.1 in /usr/local/lib/python3.10/dist-packages (from spacy==3.8.4->-r requirements.txt (line 23)) (1.1.3)\nRequirement already satisfied: srsly<3.0.0,>=2.4.3 in /usr/local/lib/python3.10/dist-packages (from spacy==3.8.4->-r requirements.txt (line 23)) (2.5.0)\nRequirement already satisfied: catalogue<2.1.0,>=2.0.6 in /usr/local/lib/python3.10/dist-packages (from spacy==3.8.4->-r requirements.txt (line 23)) (2.0.10)\nRequirement already satisfied: weasel<0.5.0,>=0.1.0 in /usr/local/lib/python3.10/dist-packages (from spacy==3.8.4->-r requirements.txt (line 23)) (0.4.1)\nRequirement already satisfied: typer<1.0.0,>=0.3.0 in /usr/local/lib/python3.10/dist-packages (from spacy==3.8.4->-r requirements.txt (line 23)) (0.15.1)\nRequirement already satisfied: pydantic!=1.8,!=1.8.1,<3.0.0,>=1.7.4 in /usr/local/lib/python3.10/dist-packages (from spacy==3.8.4->-r requirements.txt (line 23)) (2.11.0a1)\nRequirement already satisfied: jinja2 in /usr/local/lib/python3.10/dist-packages (from spacy==3.8.4->-r requirements.txt (line 23)) (3.1.4)\nRequirement already satisfied: langcodes<4.0.0,>=3.2.0 in /usr/local/lib/python3.10/dist-packages (from spacy==3.8.4->-r requirements.txt (line 23)) (3.5.0)\nRequirement already satisfied: future in /usr/local/lib/python3.10/dist-packages (from ffmpeg-python==0.2.0->-r requirements.txt (line 26)) (1.0.0)\nRequirement already satisfied: Click in /usr/local/lib/python3.10/dist-packages (from scenedetect==0.6.5.2->scenedetect[opencv-headless]==0.6.5.2->-r requirements.txt (line 27)) (8.1.7)\nRequirement already satisfied: platformdirs in /usr/local/lib/python3.10/dist-packages (from scenedetect==0.6.5.2->scenedetect[opencv-headless]==0.6.5.2->-r requirements.txt (line 27)) (4.3.6)\nRequirement already satisfied: opencv-python-headless in /usr/local/lib/python3.10/dist-packages (from scenedetect[opencv-headless]==0.6.5.2->-r requirements.txt (line 27)) (4.10.0.84)\nRequirement already satisfied: typing-extensions>=4.8.0 in /usr/local/lib/python3.10/dist-packages (from torch>=2->-r requirements.txt (line 5)) (4.12.2)\nRequirement already satisfied: sympy==1.13.1 in /usr/local/lib/python3.10/dist-packages (from torch>=2->-r requirements.txt (line 5)) (1.13.1)\nRequirement already satisfied: mpmath<1.4,>=1.1.0 in /usr/local/lib/python3.10/dist-packages (from sympy==1.13.1->torch>=2->-r requirements.txt (line 5)) (1.3.0)\nRequirement already satisfied: regex!=2019.12.17 in /usr/local/lib/python3.10/dist-packages (from transformers->-r requirements.txt (line 9)) (2024.11.6)\nRequirement already satisfied: safetensors>=0.4.1 in /usr/local/lib/python3.10/dist-packages (from transformers->-r requirements.txt (line 9)) (0.4.5)\nRequirement already satisfied: python-dateutil>=2.8.2 in /usr/local/lib/python3.10/dist-packages (from pandas->-r requirements.txt (line 10)) (2.9.0.post0)\nRequirement already satisfied: pytz>=2020.1 in /usr/local/lib/python3.10/dist-packages (from pandas->-r requirements.txt (line 10)) (2025.1)\nRequirement already satisfied: tzdata>=2022.7 in /usr/local/lib/python3.10/dist-packages (from pandas->-r requirements.txt (line 10)) (2025.1)\nRequirement already satisfied: six in /usr/local/lib/python3.10/dist-packages (from nltk->-r requirements.txt (line 12)) (1.17.0)\nCollecting pyannote.audio==3.3.2 (from whisperx->-r requirements.txt (line 29))\n  Downloading pyannote.audio-3.3.2-py2.py3-none-any.whl.metadata (11 kB)\nCollecting asteroid-filterbanks>=0.4 (from pyannote.audio==3.3.2->whisperx->-r requirements.txt (line 29))\n  Downloading asteroid_filterbanks-0.4.0-py3-none-any.whl.metadata (3.3 kB)\nRequirement already satisfied: einops>=0.6.0 in /usr/local/lib/python3.10/dist-packages (from pyannote.audio==3.3.2->whisperx->-r requirements.txt (line 29)) (0.8.0)\nCollecting lightning>=2.0.1 (from pyannote.audio==3.3.2->whisperx->-r requirements.txt (line 29))\n  Downloading lightning-2.5.0.post0-py3-none-any.whl.metadata (40 kB)\nRequirement already satisfied: omegaconf<3.0,>=2.1 in /usr/local/lib/python3.10/dist-packages (from pyannote.audio==3.3.2->whisperx->-r requirements.txt (line 29)) (2.3.0)\nCollecting pyannote.core>=5.0.0 (from pyannote.audio==3.3.2->whisperx->-r requirements.txt (line 29))\n  Downloading pyannote.core-5.0.0-py3-none-any.whl.metadata (1.4 kB)\nCollecting pyannote.database>=5.0.1 (from pyannote.audio==3.3.2->whisperx->-r requirements.txt (line 29))\n  Downloading pyannote.database-5.1.3-py3-none-any.whl.metadata (1.1 kB)\nCollecting pyannote.metrics>=3.2 (from pyannote.audio==3.3.2->whisperx->-r requirements.txt (line 29))\n  Downloading pyannote.metrics-3.2.1-py3-none-any.whl.metadata (1.3 kB)\nCollecting pyannote.pipeline>=3.0.1 (from pyannote.audio==3.3.2->whisperx->-r requirements.txt (line 29))\n  Downloading pyannote.pipeline-3.0.1-py3-none-any.whl.metadata (897 bytes)\nCollecting pytorch-metric-learning>=2.1.0 (from pyannote.audio==3.3.2->whisperx->-r requirements.txt (line 29))\n  Downloading pytorch_metric_learning-2.8.1-py3-none-any.whl.metadata (18 kB)\nRequirement already satisfied: rich>=12.0.0 in /usr/local/lib/python3.10/dist-packages (from pyannote.audio==3.3.2->whisperx->-r requirements.txt (line 29)) (13.9.4)\nRequirement already satisfied: semver>=3.0.0 in /usr/local/lib/python3.10/dist-packages (from pyannote.audio==3.3.2->whisperx->-r requirements.txt (line 29)) (3.0.4)\nRequirement already satisfied: soundfile>=0.12.1 in /usr/local/lib/python3.10/dist-packages (from pyannote.audio==3.3.2->whisperx->-r requirements.txt (line 29)) (0.12.1)\nCollecting speechbrain>=1.0.0 (from pyannote.audio==3.3.2->whisperx->-r requirements.txt (line 29))\n  Downloading speechbrain-1.0.2-py3-none-any.whl.metadata (23 kB)\nCollecting tensorboardX>=2.6 (from pyannote.audio==3.3.2->whisperx->-r requirements.txt (line 29))\n  Downloading tensorboardX-2.6.2.2-py2.py3-none-any.whl.metadata (5.8 kB)\nCollecting torch-audiomentations>=0.11.0 (from pyannote.audio==3.3.2->whisperx->-r requirements.txt (line 29))\n  Downloading torch_audiomentations-0.12.0-py3-none-any.whl.metadata (15 kB)\nRequirement already satisfied: torchmetrics>=0.11.0 in /usr/local/lib/python3.10/dist-packages (from pyannote.audio==3.3.2->whisperx->-r requirements.txt (line 29)) (1.6.1)\nRequirement already satisfied: aiohappyeyeballs>=2.3.0 in /usr/local/lib/python3.10/dist-packages (from aiohttp->datasets==3.3.1->-r requirements.txt (line 14)) (2.4.4)\nRequirement already satisfied: aiosignal>=1.1.2 in /usr/local/lib/python3.10/dist-packages (from aiohttp->datasets==3.3.1->-r requirements.txt (line 14)) (1.3.2)\nRequirement already satisfied: async-timeout<6.0,>=4.0 in /usr/local/lib/python3.10/dist-packages (from aiohttp->datasets==3.3.1->-r requirements.txt (line 14)) (5.0.1)\nRequirement already satisfied: attrs>=17.3.0 in /usr/local/lib/python3.10/dist-packages (from aiohttp->datasets==3.3.1->-r requirements.txt (line 14)) (25.1.0)\nRequirement already satisfied: frozenlist>=1.1.1 in /usr/local/lib/python3.10/dist-packages (from aiohttp->datasets==3.3.1->-r requirements.txt (line 14)) (1.5.0)\nRequirement already satisfied: multidict<7.0,>=4.5 in /usr/local/lib/python3.10/dist-packages (from aiohttp->datasets==3.3.1->-r requirements.txt (line 14)) (6.1.0)\nRequirement already satisfied: propcache>=0.2.0 in /usr/local/lib/python3.10/dist-packages (from aiohttp->datasets==3.3.1->-r requirements.txt (line 14)) (0.2.1)\nRequirement already satisfied: yarl<2.0,>=1.17.0 in /usr/local/lib/python3.10/dist-packages (from aiohttp->datasets==3.3.1->-r requirements.txt (line 14)) (1.18.3)\nRequirement already satisfied: gitdb<5,>=4.0.1 in /usr/local/lib/python3.10/dist-packages (from GitPython>=3.1->pytextrank==3.3.0->-r requirements.txt (line 19)) (4.0.11)\nRequirement already satisfied: colorama>=0.3.9 in /usr/local/lib/python3.10/dist-packages (from icecream>=2.1->pytextrank==3.3.0->-r requirements.txt (line 19)) (0.4.6)\nCollecting executing>=2.1.0 (from icecream>=2.1->pytextrank==3.3.0->-r requirements.txt (line 19))\n  Downloading executing-2.2.0-py2.py3-none-any.whl.metadata (8.9 kB)\nRequirement already satisfied: asttokens>=2.0.1 in /usr/local/lib/python3.10/dist-packages (from icecream>=2.1->pytextrank==3.3.0->-r requirements.txt (line 19)) (3.0.0)\nRequirement already satisfied: language-data>=1.2 in /usr/local/lib/python3.10/dist-packages (from langcodes<4.0.0,>=3.2.0->spacy==3.8.4->-r requirements.txt (line 23)) (1.3.0)\nRequirement already satisfied: matplotlib>=3.7 in /usr/local/lib/python3.10/dist-packages (from networkx[default]>=2.6->pytextrank==3.3.0->-r requirements.txt (line 19)) (3.7.5)\nCollecting coloredlogs (from onnxruntime<2,>=1.14->faster-whisper==1.1.0->-r requirements.txt (line 7))\n  Downloading coloredlogs-15.0.1-py2.py3-none-any.whl.metadata (12 kB)\nRequirement already satisfied: flatbuffers in /usr/local/lib/python3.10/dist-packages (from onnxruntime<2,>=1.14->faster-whisper==1.1.0->-r requirements.txt (line 7)) (24.3.25)\nRequirement already satisfied: protobuf in /usr/local/lib/python3.10/dist-packages (from onnxruntime<2,>=1.14->faster-whisper==1.1.0->-r requirements.txt (line 7)) (3.20.3)\nRequirement already satisfied: annotated-types>=0.6.0 in /usr/local/lib/python3.10/dist-packages (from pydantic!=1.8,!=1.8.1,<3.0.0,>=1.7.4->spacy==3.8.4->-r requirements.txt (line 23)) (0.7.0)\nRequirement already satisfied: pydantic-core==2.28.0 in /usr/local/lib/python3.10/dist-packages (from pydantic!=1.8,!=1.8.1,<3.0.0,>=1.7.4->spacy==3.8.4->-r requirements.txt (line 23)) (2.28.0)\nRequirement already satisfied: charset-normalizer<4,>=2 in /usr/local/lib/python3.10/dist-packages (from requests>=2.32.2->datasets==3.3.1->-r requirements.txt (line 14)) (3.4.1)\nRequirement already satisfied: idna<4,>=2.5 in /usr/local/lib/python3.10/dist-packages (from requests>=2.32.2->datasets==3.3.1->-r requirements.txt (line 14)) (3.10)\nRequirement already satisfied: urllib3<3,>=1.21.1 in /usr/local/lib/python3.10/dist-packages (from requests>=2.32.2->datasets==3.3.1->-r requirements.txt (line 14)) (2.3.0)\nRequirement already satisfied: certifi>=2017.4.17 in /usr/local/lib/python3.10/dist-packages (from requests>=2.32.2->datasets==3.3.1->-r requirements.txt (line 14)) (2025.1.31)\nCollecting blis<1.3.0,>=1.2.0 (from thinc<8.4.0,>=8.3.4->spacy==3.8.4->-r requirements.txt (line 23))\n  Downloading blis-1.2.0-cp310-cp310-manylinux_2_17_x86_64.manylinux2014_x86_64.whl.metadata (7.7 kB)\nRequirement already satisfied: confection<1.0.0,>=0.0.1 in /usr/local/lib/python3.10/dist-packages (from thinc<8.4.0,>=8.3.4->spacy==3.8.4->-r requirements.txt (line 23)) (0.1.5)\nRequirement already satisfied: shellingham>=1.3.0 in /usr/local/lib/python3.10/dist-packages (from typer<1.0.0,>=0.3.0->spacy==3.8.4->-r requirements.txt (line 23)) (1.5.4)\nRequirement already satisfied: cloudpathlib<1.0.0,>=0.7.0 in /usr/local/lib/python3.10/dist-packages (from weasel<0.5.0,>=0.1.0->spacy==3.8.4->-r requirements.txt (line 23)) (0.20.0)\nRequirement already satisfied: smart-open<8.0.0,>=5.2.1 in /usr/local/lib/python3.10/dist-packages (from weasel<0.5.0,>=0.1.0->spacy==3.8.4->-r requirements.txt (line 23)) (7.0.5)\nRequirement already satisfied: soupsieve>1.2 in /usr/local/lib/python3.10/dist-packages (from beautifulsoup4->gdown==5.2.0->-r requirements.txt (line 16)) (2.6)\nRequirement already satisfied: MarkupSafe>=2.0 in /usr/local/lib/python3.10/dist-packages (from jinja2->spacy==3.8.4->-r requirements.txt (line 23)) (3.0.2)\nRequirement already satisfied: intel-openmp>=2024 in /usr/local/lib/python3.10/dist-packages (from mkl->numpy==1.26.4->-r requirements.txt (line 18)) (2024.2.0)\nRequirement already satisfied: tbb==2022.* in /usr/local/lib/python3.10/dist-packages (from mkl->numpy==1.26.4->-r requirements.txt (line 18)) (2022.0.0)\nRequirement already satisfied: tcmlib==1.* in /usr/local/lib/python3.10/dist-packages (from tbb==2022.*->mkl->numpy==1.26.4->-r requirements.txt (line 18)) (1.2.0)\nRequirement already satisfied: intel-cmplr-lib-rt in /usr/local/lib/python3.10/dist-packages (from mkl_umath->numpy==1.26.4->-r requirements.txt (line 18)) (2024.2.0)\nRequirement already satisfied: PySocks!=1.5.7,>=1.5.6 in /usr/local/lib/python3.10/dist-packages (from requests[socks]->gdown==5.2.0->-r requirements.txt (line 16)) (1.7.1)\nRequirement already satisfied: smmap<6,>=3.0.1 in /usr/local/lib/python3.10/dist-packages (from gitdb<5,>=4.0.1->GitPython>=3.1->pytextrank==3.3.0->-r requirements.txt (line 19)) (5.0.1)\nRequirement already satisfied: intel-cmplr-lib-ur==2024.2.0 in /usr/local/lib/python3.10/dist-packages (from intel-openmp>=2024->mkl->numpy==1.26.4->-r requirements.txt (line 18)) (2024.2.0)\nRequirement already satisfied: marisa-trie>=1.1.0 in /usr/local/lib/python3.10/dist-packages (from language-data>=1.2->langcodes<4.0.0,>=3.2.0->spacy==3.8.4->-r requirements.txt (line 23)) (1.2.1)\nRequirement already satisfied: lightning-utilities<2.0,>=0.10.0 in /usr/local/lib/python3.10/dist-packages (from lightning>=2.0.1->pyannote.audio==3.3.2->whisperx->-r requirements.txt (line 29)) (0.12.0)\nRequirement already satisfied: pytorch-lightning in /usr/local/lib/python3.10/dist-packages (from lightning>=2.0.1->pyannote.audio==3.3.2->whisperx->-r requirements.txt (line 29)) (2.5.0.post0)\nRequirement already satisfied: contourpy>=1.0.1 in /usr/local/lib/python3.10/dist-packages (from matplotlib>=3.7->networkx[default]>=2.6->pytextrank==3.3.0->-r requirements.txt (line 19)) (1.3.1)\nRequirement already satisfied: cycler>=0.10 in /usr/local/lib/python3.10/dist-packages (from matplotlib>=3.7->networkx[default]>=2.6->pytextrank==3.3.0->-r requirements.txt (line 19)) (0.12.1)\nRequirement already satisfied: fonttools>=4.22.0 in /usr/local/lib/python3.10/dist-packages (from matplotlib>=3.7->networkx[default]>=2.6->pytextrank==3.3.0->-r requirements.txt (line 19)) (4.55.3)\nRequirement already satisfied: kiwisolver>=1.0.1 in /usr/local/lib/python3.10/dist-packages (from matplotlib>=3.7->networkx[default]>=2.6->pytextrank==3.3.0->-r requirements.txt (line 19)) (1.4.7)\nRequirement already satisfied: pillow>=6.2.0 in /usr/local/lib/python3.10/dist-packages (from matplotlib>=3.7->networkx[default]>=2.6->pytextrank==3.3.0->-r requirements.txt (line 19)) (11.0.0)\nRequirement already satisfied: pyparsing>=2.3.1 in /usr/local/lib/python3.10/dist-packages (from matplotlib>=3.7->networkx[default]>=2.6->pytextrank==3.3.0->-r requirements.txt (line 19)) (3.2.0)\nRequirement already satisfied: antlr4-python3-runtime==4.9.* in /usr/local/lib/python3.10/dist-packages (from omegaconf<3.0,>=2.1->pyannote.audio==3.3.2->whisperx->-r requirements.txt (line 29)) (4.9.3)\nRequirement already satisfied: sortedcontainers>=2.0.4 in /usr/local/lib/python3.10/dist-packages (from pyannote.core>=5.0.0->pyannote.audio==3.3.2->whisperx->-r requirements.txt (line 29)) (2.4.0)\nRequirement already satisfied: scikit-learn>=0.17.1 in /usr/local/lib/python3.10/dist-packages (from pyannote.metrics>=3.2->pyannote.audio==3.3.2->whisperx->-r requirements.txt (line 29)) (1.2.2)\nCollecting docopt>=0.6.2 (from pyannote.metrics>=3.2->pyannote.audio==3.3.2->whisperx->-r requirements.txt (line 29))\n  Downloading docopt-0.6.2.tar.gz (25 kB)\n  Preparing metadata (setup.py) ... \u001B[?25l\u001B[?25hdone\nRequirement already satisfied: tabulate>=0.7.7 in /usr/local/lib/python3.10/dist-packages (from pyannote.metrics>=3.2->pyannote.audio==3.3.2->whisperx->-r requirements.txt (line 29)) (0.9.0)\nRequirement already satisfied: optuna>=3.1 in /usr/local/lib/python3.10/dist-packages (from pyannote.pipeline>=3.0.1->pyannote.audio==3.3.2->whisperx->-r requirements.txt (line 29)) (4.2.0)\nRequirement already satisfied: markdown-it-py>=2.2.0 in /usr/local/lib/python3.10/dist-packages (from rich>=12.0.0->pyannote.audio==3.3.2->whisperx->-r requirements.txt (line 29)) (3.0.0)\nRequirement already satisfied: wrapt in /usr/local/lib/python3.10/dist-packages (from smart-open<8.0.0,>=5.2.1->weasel<0.5.0,>=0.1.0->spacy==3.8.4->-r requirements.txt (line 23)) (1.17.0)\nRequirement already satisfied: cffi>=1.0 in /usr/local/lib/python3.10/dist-packages (from soundfile>=0.12.1->pyannote.audio==3.3.2->whisperx->-r requirements.txt (line 29)) (1.17.1)\nCollecting hyperpyyaml (from speechbrain>=1.0.0->pyannote.audio==3.3.2->whisperx->-r requirements.txt (line 29))\n  Downloading HyperPyYAML-1.2.2-py3-none-any.whl.metadata (7.6 kB)\nRequirement already satisfied: joblib in /usr/local/lib/python3.10/dist-packages (from speechbrain>=1.0.0->pyannote.audio==3.3.2->whisperx->-r requirements.txt (line 29)) (1.4.2)\nRequirement already satisfied: sentencepiece in /usr/local/lib/python3.10/dist-packages (from speechbrain>=1.0.0->pyannote.audio==3.3.2->whisperx->-r requirements.txt (line 29)) (0.2.0)\nCollecting julius<0.3,>=0.2.3 (from torch-audiomentations>=0.11.0->pyannote.audio==3.3.2->whisperx->-r requirements.txt (line 29))\n  Downloading julius-0.2.7.tar.gz (59 kB)\n  Preparing metadata (setup.py) ... \u001B[?25l\u001B[?25hdone\nCollecting torch-pitch-shift>=1.2.2 (from torch-audiomentations>=0.11.0->pyannote.audio==3.3.2->whisperx->-r requirements.txt (line 29))\n  Downloading torch_pitch_shift-1.2.5-py3-none-any.whl.metadata (2.5 kB)\nCollecting humanfriendly>=9.1 (from coloredlogs->onnxruntime<2,>=1.14->faster-whisper==1.1.0->-r requirements.txt (line 7))\n  Downloading humanfriendly-10.0-py2.py3-none-any.whl.metadata (9.2 kB)\nRequirement already satisfied: pycparser in /usr/local/lib/python3.10/dist-packages (from cffi>=1.0->soundfile>=0.12.1->pyannote.audio==3.3.2->whisperx->-r requirements.txt (line 29)) (2.22)\nRequirement already satisfied: mdurl~=0.1 in /usr/local/lib/python3.10/dist-packages (from markdown-it-py>=2.2.0->rich>=12.0.0->pyannote.audio==3.3.2->whisperx->-r requirements.txt (line 29)) (0.1.2)\nRequirement already satisfied: alembic>=1.5.0 in /usr/local/lib/python3.10/dist-packages (from optuna>=3.1->pyannote.pipeline>=3.0.1->pyannote.audio==3.3.2->whisperx->-r requirements.txt (line 29)) (1.14.1)\nRequirement already satisfied: colorlog in /usr/local/lib/python3.10/dist-packages (from optuna>=3.1->pyannote.pipeline>=3.0.1->pyannote.audio==3.3.2->whisperx->-r requirements.txt (line 29)) (6.9.0)\nRequirement already satisfied: sqlalchemy>=1.4.2 in /usr/local/lib/python3.10/dist-packages (from optuna>=3.1->pyannote.pipeline>=3.0.1->pyannote.audio==3.3.2->whisperx->-r requirements.txt (line 29)) (2.0.36)\nRequirement already satisfied: threadpoolctl>=2.0.0 in /usr/local/lib/python3.10/dist-packages (from scikit-learn>=0.17.1->pyannote.metrics>=3.2->pyannote.audio==3.3.2->whisperx->-r requirements.txt (line 29)) (3.5.0)\nCollecting primePy>=1.3 (from torch-pitch-shift>=1.2.2->torch-audiomentations>=0.11.0->pyannote.audio==3.3.2->whisperx->-r requirements.txt (line 29))\n  Downloading primePy-1.3-py3-none-any.whl.metadata (4.8 kB)\nCollecting ruamel.yaml>=0.17.28 (from hyperpyyaml->speechbrain>=1.0.0->pyannote.audio==3.3.2->whisperx->-r requirements.txt (line 29))\n  Downloading ruamel.yaml-0.18.10-py3-none-any.whl.metadata (23 kB)\nRequirement already satisfied: Mako in /usr/local/lib/python3.10/dist-packages (from alembic>=1.5.0->optuna>=3.1->pyannote.pipeline>=3.0.1->pyannote.audio==3.3.2->whisperx->-r requirements.txt (line 29)) (1.3.9)\nCollecting ruamel.yaml.clib>=0.2.7 (from ruamel.yaml>=0.17.28->hyperpyyaml->speechbrain>=1.0.0->pyannote.audio==3.3.2->whisperx->-r requirements.txt (line 29))\n  Downloading ruamel.yaml.clib-0.2.12-cp310-cp310-manylinux_2_17_x86_64.manylinux2014_x86_64.whl.metadata (2.7 kB)\nRequirement already satisfied: greenlet!=0.4.17 in /usr/local/lib/python3.10/dist-packages (from sqlalchemy>=1.4.2->optuna>=3.1->pyannote.pipeline>=3.0.1->pyannote.audio==3.3.2->whisperx->-r requirements.txt (line 29)) (3.1.1)\nDownloading faster_whisper-1.1.0-py3-none-any.whl (1.1 MB)\n\u001B[2K   \u001B[90m━━━━━━━━━━━━━━━━━━━━━━━━━━━━━━━━━━━━━━━━\u001B[0m \u001B[32m1.1/1.1 MB\u001B[0m \u001B[31m11.0 MB/s\u001B[0m eta \u001B[36m0:00:00\u001B[0m\n\u001B[?25hDownloading datasets-3.3.1-py3-none-any.whl (484 kB)\nDownloading deepmultilingualpunctuation-1.0.1-py3-none-any.whl (5.4 kB)\nDownloading pytextrank-3.3.0-py3-none-any.whl (26 kB)\nDownloading pymediainfo-7.0.1-py3-none-manylinux_2_27_x86_64.whl (6.0 MB)\n\u001B[2K   \u001B[90m━━━━━━━━━━━━━━━━━━━━━━━━━━━━━━━━━━━━━━━━\u001B[0m \u001B[32m6.0/6.0 MB\u001B[0m \u001B[31m23.2 MB/s\u001B[0m eta \u001B[36m0:00:00\u001B[0ma \u001B[36m0:00:01\u001B[0m\n\u001B[?25hDownloading silero_vad-5.1.2-py3-none-any.whl (5.0 MB)\n\u001B[2K   \u001B[90m━━━━━━━━━━━━━━━━━━━━━━━━━━━━━━━━━━━━━━━━\u001B[0m \u001B[32m5.0/5.0 MB\u001B[0m \u001B[31m54.7 MB/s\u001B[0m eta \u001B[36m0:00:00\u001B[0m\n\u001B[?25hDownloading spacy-3.8.4-cp310-cp310-manylinux_2_17_x86_64.manylinux2014_x86_64.whl (29.2 MB)\n\u001B[2K   \u001B[90m━━━━━━━━━━━━━━━━━━━━━━━━━━━━━━━━━━━━━━━━\u001B[0m \u001B[32m29.2/29.2 MB\u001B[0m \u001B[31m99.1 MB/s\u001B[0m eta \u001B[36m0:00:00\u001B[0m:00:01\u001B[0m\n\u001B[?25hDownloading ffmpeg_python-0.2.0-py3-none-any.whl (25 kB)\nDownloading scenedetect-0.6.5.2-py3-none-any.whl (127 kB)\nDownloading ctranslate2-4.4.0-cp310-cp310-manylinux_2_17_x86_64.manylinux2014_x86_64.whl (37.2 MB)\n\u001B[2K   \u001B[90m━━━━━━━━━━━━━━━━━━━━━━━━━━━━━━━━━━━━━━━━\u001B[0m \u001B[32m37.2/37.2 MB\u001B[0m \u001B[31m96.7 MB/s\u001B[0m eta \u001B[36m0:00:00\u001B[0mta \u001B[36m0:00:01\u001B[0m\n\u001B[?25hDownloading whisperx-3.3.1-py3-none-any.whl (16.5 MB)\n\u001B[2K   \u001B[90m━━━━━━━━━━━━━━━━━━━━━━━━━━━━━━━━━━━━━━━━\u001B[0m \u001B[32m16.5/16.5 MB\u001B[0m \u001B[31m101.1 MB/s\u001B[0m eta \u001B[36m0:00:00\u001B[0m\n\u001B[?25hDownloading pyannote.audio-3.3.2-py2.py3-none-any.whl (898 kB)\n\u001B[2K   \u001B[90m━━━━━━━━━━━━━━━━━━━━━━━━━━━━━━━━━━━━━━━━\u001B[0m \u001B[32m898.7/898.7 kB\u001B[0m \u001B[31m30.5 MB/s\u001B[0m eta \u001B[36m0:00:00\u001B[0m\n\u001B[?25hDownloading av-14.1.0-cp310-cp310-manylinux_2_17_x86_64.manylinux2014_x86_64.whl (38.7 MB)\n\u001B[2K   \u001B[90m━━━━━━━━━━━━━━━━━━━━━━━━━━━━━━━━━━━━━━━━\u001B[0m \u001B[32m38.7/38.7 MB\u001B[0m \u001B[31m107.3 MB/s\u001B[0m eta \u001B[36m0:00:00\u001B[0m00:01\u001B[0m\n\u001B[?25hDownloading icecream-2.1.4-py3-none-any.whl (14 kB)\nDownloading onnxruntime-1.20.1-cp310-cp310-manylinux_2_27_x86_64.manylinux_2_28_x86_64.whl (13.3 MB)\n\u001B[2K   \u001B[90m━━━━━━━━━━━━━━━━━━━━━━━━━━━━━━━━━━━━━━━━\u001B[0m \u001B[32m13.3/13.3 MB\u001B[0m \u001B[31m98.2 MB/s\u001B[0m eta \u001B[36m0:00:00\u001B[0m\n\u001B[?25hDownloading thinc-8.3.4-cp310-cp310-manylinux_2_17_x86_64.manylinux2014_x86_64.whl (3.7 MB)\n\u001B[2K   \u001B[90m━━━━━━━━━━━━━━━━━━━━━━━━━━━━━━━━━━━━━━━━\u001B[0m \u001B[32m3.7/3.7 MB\u001B[0m \u001B[31m95.9 MB/s\u001B[0m eta \u001B[36m0:00:00\u001B[0m\n\u001B[?25hDownloading asteroid_filterbanks-0.4.0-py3-none-any.whl (29 kB)\nDownloading blis-1.2.0-cp310-cp310-manylinux_2_17_x86_64.manylinux2014_x86_64.whl (11.5 MB)\n\u001B[2K   \u001B[90m━━━━━━━━━━━━━━━━━━━━━━━━━━━━━━━━━━━━━━━━\u001B[0m \u001B[32m11.5/11.5 MB\u001B[0m \u001B[31m128.9 MB/s\u001B[0m eta \u001B[36m0:00:00\u001B[0m\n\u001B[?25hDownloading executing-2.2.0-py2.py3-none-any.whl (26 kB)\nDownloading lightning-2.5.0.post0-py3-none-any.whl (815 kB)\n\u001B[2K   \u001B[90m━━━━━━━━━━━━━━━━━━━━━━━━━━━━━━━━━━━━━━━━\u001B[0m \u001B[32m815.2/815.2 kB\u001B[0m \u001B[31m30.8 MB/s\u001B[0m eta \u001B[36m0:00:00\u001B[0m\n\u001B[?25hDownloading pyannote.core-5.0.0-py3-none-any.whl (58 kB)\nDownloading pyannote.database-5.1.3-py3-none-any.whl (48 kB)\nDownloading pyannote.metrics-3.2.1-py3-none-any.whl (51 kB)\nDownloading pyannote.pipeline-3.0.1-py3-none-any.whl (31 kB)\nDownloading pytorch_metric_learning-2.8.1-py3-none-any.whl (125 kB)\nDownloading speechbrain-1.0.2-py3-none-any.whl (824 kB)\n\u001B[2K   \u001B[90m━━━━━━━━━━━━━━━━━━━━━━━━━━━━━━━━━━━━━━━━\u001B[0m \u001B[32m824.8/824.8 kB\u001B[0m \u001B[31m32.5 MB/s\u001B[0m eta \u001B[36m0:00:00\u001B[0m\n\u001B[?25hDownloading tensorboardX-2.6.2.2-py2.py3-none-any.whl (101 kB)\nDownloading torch_audiomentations-0.12.0-py3-none-any.whl (48 kB)\nDownloading coloredlogs-15.0.1-py2.py3-none-any.whl (46 kB)\nDownloading humanfriendly-10.0-py2.py3-none-any.whl (86 kB)\nDownloading torch_pitch_shift-1.2.5-py3-none-any.whl (5.0 kB)\nDownloading HyperPyYAML-1.2.2-py3-none-any.whl (16 kB)\nDownloading primePy-1.3-py3-none-any.whl (4.0 kB)\nDownloading ruamel.yaml-0.18.10-py3-none-any.whl (117 kB)\nDownloading ruamel.yaml.clib-0.2.12-cp310-cp310-manylinux_2_17_x86_64.manylinux2014_x86_64.whl (722 kB)\n\u001B[2K   \u001B[90m━━━━━━━━━━━━━━━━━━━━━━━━━━━━━━━━━━━━━━━━\u001B[0m \u001B[32m722.2/722.2 kB\u001B[0m \u001B[31m15.3 MB/s\u001B[0m eta \u001B[36m0:00:00\u001B[0m\n\u001B[?25hBuilding wheels for collected packages: srt, docopt, julius\n  Building wheel for srt (setup.py) ... \u001B[?25l\u001B[?25hdone\n  Created wheel for srt: filename=srt-3.5.3-py3-none-any.whl size=22428 sha256=2516c773fd82d163ffd643cf1d02dd8aa45178af698a7885a97b22b87180b398\n  Stored in directory: /root/.cache/pip/wheels/d7/31/a1/18e1e7e8bfdafd19e6803d7eb919b563dd11de380e4304e332\n  Building wheel for docopt (setup.py) ... \u001B[?25l\u001B[?25hdone\n  Created wheel for docopt: filename=docopt-0.6.2-py2.py3-none-any.whl size=13706 sha256=5e2bc91682f59dce983a6102ee99ae952901c21d95b78144b000525126ba66cd\n  Stored in directory: /root/.cache/pip/wheels/fc/ab/d4/5da2067ac95b36618c629a5f93f809425700506f72c9732fac\n  Building wheel for julius (setup.py) ... \u001B[?25l\u001B[?25hdone\n  Created wheel for julius: filename=julius-0.2.7-py3-none-any.whl size=21869 sha256=a3afadabe42e8bc19427d5ba93b4b14bbffdbb731536dcbdd9b752c6404bd50f\n  Stored in directory: /root/.cache/pip/wheels/b9/b2/05/f883527ffcb7f2ead5438a2c23439aa0c881eaa9a4c80256f4\nSuccessfully built srt docopt julius\nInstalling collected packages: primePy, docopt, srt, ruamel.yaml.clib, pymediainfo, humanfriendly, ffmpeg-python, executing, av, ruamel.yaml, icecream, coloredlogs, julius, hyperpyyaml, torch-pitch-shift, torch-audiomentations, pyannote.core, pyannote.database, blis, thinc, tensorboardX, speechbrain, pytorch-metric-learning, pyannote.pipeline, pyannote.metrics, onnxruntime, lightning, ctranslate2, asteroid-filterbanks, spacy, scenedetect, pyannote.audio, faster-whisper, whisperx, silero-vad, pytextrank, deepmultilingualpunctuation, datasets\n  Attempting uninstall: blis\n    Found existing installation: blis 0.7.11\n    Uninstalling blis-0.7.11:\n      Successfully uninstalled blis-0.7.11\n  Attempting uninstall: thinc\n    Found existing installation: thinc 8.2.5\n    Uninstalling thinc-8.2.5:\n      Successfully uninstalled thinc-8.2.5\n  Attempting uninstall: spacy\n    Found existing installation: spacy 3.7.5\n    Uninstalling spacy-3.7.5:\n      Successfully uninstalled spacy-3.7.5\n  Attempting uninstall: datasets\n    Found existing installation: datasets 3.2.0\n    Uninstalling datasets-3.2.0:\n      Successfully uninstalled datasets-3.2.0\n\u001B[31mERROR: pip's dependency resolver does not currently take into account all the packages that are installed. This behaviour is the source of the following dependency conflicts.\nen-core-web-sm 3.7.1 requires spacy<3.8.0,>=3.7.2, but you have spacy 3.8.4 which is incompatible.\u001B[0m\u001B[31m\n\u001B[0mSuccessfully installed asteroid-filterbanks-0.4.0 av-14.1.0 blis-1.2.0 coloredlogs-15.0.1 ctranslate2-4.4.0 datasets-3.3.1 deepmultilingualpunctuation-1.0.1 docopt-0.6.2 executing-2.2.0 faster-whisper-1.1.0 ffmpeg-python-0.2.0 humanfriendly-10.0 hyperpyyaml-1.2.2 icecream-2.1.4 julius-0.2.7 lightning-2.5.0.post0 onnxruntime-1.20.1 primePy-1.3 pyannote.audio-3.3.2 pyannote.core-5.0.0 pyannote.database-5.1.3 pyannote.metrics-3.2.1 pyannote.pipeline-3.0.1 pymediainfo-7.0.1 pytextrank-3.3.0 pytorch-metric-learning-2.8.1 ruamel.yaml-0.18.10 ruamel.yaml.clib-0.2.12 scenedetect-0.6.5.2 silero-vad-5.1.2 spacy-3.8.4 speechbrain-1.0.2 srt-3.5.3 tensorboardX-2.6.2.2 thinc-8.3.4 torch-audiomentations-0.12.0 torch-pitch-shift-1.2.5 whisperx-3.3.1\n",
     "output_type": "stream"
    }
   ],
   "execution_count": 7
  },
  {
   "cell_type": "markdown",
   "source": [
    "## MMVTrim NLP Dependencies Download"
   ],
   "metadata": {}
  },
  {
   "cell_type": "code",
   "source": [
    "import nltk\n",
    "import spacy"
   ],
   "metadata": {
    "trusted": true,
    "execution": {
     "iopub.status.busy": "2025-02-21T20:48:10.224457Z",
     "iopub.execute_input": "2025-02-21T20:48:10.224697Z",
     "iopub.status.idle": "2025-02-21T20:48:17.512898Z",
     "shell.execute_reply.started": "2025-02-21T20:48:10.224676Z",
     "shell.execute_reply": "2025-02-21T20:48:17.512105Z"
    }
   },
   "outputs": [],
   "execution_count": 8
  },
  {
   "cell_type": "code",
   "source": [
    "# NLP Libraries\n",
    "nltk.download('punkt')\n",
    "nltk.download('punkt_tab')\n",
    "\n",
    "# Load the spaCy model\n",
    "spacy.cli.download(\"en_core_web_sm\")"
   ],
   "metadata": {
    "trusted": true,
    "execution": {
     "iopub.status.busy": "2025-02-21T20:48:17.513770Z",
     "iopub.execute_input": "2025-02-21T20:48:17.514198Z",
     "iopub.status.idle": "2025-02-21T20:48:22.263989Z",
     "shell.execute_reply.started": "2025-02-21T20:48:17.514175Z",
     "shell.execute_reply": "2025-02-21T20:48:22.263041Z"
    }
   },
   "outputs": [
    {
     "name": "stdout",
     "text": "[nltk_data] Downloading package punkt to /usr/share/nltk_data...\n[nltk_data]   Package punkt is already up-to-date!\n[nltk_data] Downloading package punkt_tab to /usr/share/nltk_data...\n[nltk_data]   Unzipping tokenizers/punkt_tab.zip.\n\u001B[38;5;2m✔ Download and installation successful\u001B[0m\nYou can now load the package via spacy.load('en_core_web_sm')\n\u001B[38;5;3m⚠ Restart to reload dependencies\u001B[0m\nIf you are in a Jupyter or Colab notebook, you may need to restart Python in\norder to load all the package's dependencies. You can do this by selecting the\n'Restart kernel' or 'Restart runtime' option.\n",
     "output_type": "stream"
    }
   ],
   "execution_count": 9
  },
  {
   "cell_type": "markdown",
   "source": [
    "# Experiements Setup"
   ],
   "metadata": {}
  },
  {
   "cell_type": "code",
   "source": [
    "# Directory containing the video files\n",
    "video_dir = '/kaggle/input/tvsum50/tvsum50/video'\n",
    "\n",
    "# List all files in the directory\n",
    "all_files = os.listdir(video_dir)\n",
    "\n",
    "# Filter to get only video files (assuming .mp4, .avi, and .mov as examples)\n",
    "experiment_videos = [f for f in all_files if f.endswith(('.mp4', '.avi', '.mov'))]\n",
    "experiment_videos.sort()\n",
    "\n",
    "n_experiments = len(experiment_videos)\n",
    "\n",
    "print(f\"experiments loaded: {n_experiments}\")"
   ],
   "metadata": {
    "trusted": true,
    "execution": {
     "iopub.status.busy": "2025-02-21T20:48:22.265047Z",
     "iopub.execute_input": "2025-02-21T20:48:22.265366Z",
     "iopub.status.idle": "2025-02-21T20:48:22.289498Z",
     "shell.execute_reply.started": "2025-02-21T20:48:22.265335Z",
     "shell.execute_reply": "2025-02-21T20:48:22.288694Z"
    }
   },
   "outputs": [
    {
     "name": "stdout",
     "text": "videos loaded: 50\n",
     "output_type": "stream"
    }
   ],
   "execution_count": 10
  },
  {
   "cell_type": "code",
   "source": [
    "# copy to working dir 'dataset'\n",
    "dataset_dir = '/kaggle/working/multimodal-video-trimming/dataset'\n",
    "\n",
    "shutil.copytree(video_dir, dataset_dir)\n",
    "\n",
    "experiments = [os.path.join(dataset_dir, exp) for exp in experiment_videos]"
   ],
   "metadata": {
    "trusted": true,
    "execution": {
     "iopub.status.busy": "2025-02-21T20:48:22.290345Z",
     "iopub.execute_input": "2025-02-21T20:48:22.290652Z",
     "iopub.status.idle": "2025-02-21T20:48:33.068437Z",
     "shell.execute_reply.started": "2025-02-21T20:48:22.290622Z",
     "shell.execute_reply": "2025-02-21T20:48:33.067692Z"
    }
   },
   "outputs": [],
   "execution_count": 11
  },
  {
   "cell_type": "markdown",
   "source": [
    "# Run Experiments (All)"
   ],
   "metadata": {}
  },
  {
   "cell_type": "code",
   "source": [
    "starting_experiment_index = 0\n",
    "\n",
    "if run_all_experiments_mode:\n",
    "    for i, experiment in enumerate(experiments[starting_experiment_index:], start=starting_experiment_index):\n",
    "        clear_output(wait=True) # clear output\n",
    "        print(f\"=== Experiment: {i} of {n_experiments}\\n\\n\")\n",
    "        sys.stdout.flush()\n",
    "\n",
    "        !python multimodal_video_summarization.py \\\n",
    "        --experiment_mode \\\n",
    "        --skip_nlp_downloads \\\n",
    "        --video_input {experiment} \\\n",
    "        --auto_summary_summary_length_percentage {AUTO_SUMMARY_SUMMARY_LENGTH_PERCENTAGE} \\\n",
    "        --auto_summary_min_summary_length {AUTO_SUMMARY_MIN_SUMMARY_LENGTH} \\\n",
    "        --auto_summary_max_summary_length {AUTO_SUMMARY_MAX_SUMMARY_LENGTH} \\\n",
    "        --deletion_metric_threshold {DELETION_METRIC_THRESHOLD} \\\n",
    "        --metric_1_model_size {METRIC_1_MODEL_SIZE} \\\n",
    "        --metric_1_weight {METRIC_1_WEIGHT} \\\n",
    "        --metric_2_weight {METRIC_2_WEIGHT} \\\n",
    "        --metric_2_min_scene_len {METRIC_2_MIN_SCENE_LEN} \\\n",
    "        --metric_2_threshold {METRIC_2_THRESHOLD}"
   ],
   "metadata": {
    "trusted": true,
    "execution": {
     "iopub.status.busy": "2025-02-21T20:52:35.205291Z",
     "iopub.execute_input": "2025-02-21T20:52:35.205607Z"
    }
   },
   "outputs": [
    {
     "name": "stdout",
     "text": "=====Experiment: 10\n\n\nNotebook Mode: False\n\n=== skipping installation\n\n========================================\n=========== Experiment Mode ============\n======================================== \n\n\n=== importing...\n\n2025-02-21 21:47:36.226780: E external/local_xla/xla/stream_executor/cuda/cuda_fft.cc:485] Unable to register cuFFT factory: Attempting to register factory for plugin cuFFT when one has already been registered\n2025-02-21 21:47:36.248152: E external/local_xla/xla/stream_executor/cuda/cuda_dnn.cc:8454] Unable to register cuDNN factory: Attempting to register factory for plugin cuDNN when one has already been registered\n2025-02-21 21:47:36.254720: E external/local_xla/xla/stream_executor/cuda/cuda_blas.cc:1452] Unable to register cuBLAS factory: Attempting to register factory for plugin cuBLAS when one has already been registered\n/usr/local/lib/python3.10/dist-packages\n\n=== importing done\n\n========================================\n============ Preprocessing =============\n======================================== \n\n\n=== extracting audio from video\n\nffmpeg version 4.4.2-0ubuntu0.22.04.1 Copyright (c) 2000-2021 the FFmpeg developers\n  built with gcc 11 (Ubuntu 11.2.0-19ubuntu1)\n  configuration: --prefix=/usr --extra-version=0ubuntu0.22.04.1 --toolchain=hardened --libdir=/usr/lib/x86_64-linux-gnu --incdir=/usr/include/x86_64-linux-gnu --arch=amd64 --enable-gpl --disable-stripping --enable-gnutls --enable-ladspa --enable-libaom --enable-libass --enable-libbluray --enable-libbs2b --enable-libcaca --enable-libcdio --enable-libcodec2 --enable-libdav1d --enable-libflite --enable-libfontconfig --enable-libfreetype --enable-libfribidi --enable-libgme --enable-libgsm --enable-libjack --enable-libmp3lame --enable-libmysofa --enable-libopenjpeg --enable-libopenmpt --enable-libopus --enable-libpulse --enable-librabbitmq --enable-librubberband --enable-libshine --enable-libsnappy --enable-libsoxr --enable-libspeex --enable-libsrt --enable-libssh --enable-libtheora --enable-libtwolame --enable-libvidstab --enable-libvorbis --enable-libvpx --enable-libwebp --enable-libx265 --enable-libxml2 --enable-libxvid --enable-libzimg --enable-libzmq --enable-libzvbi --enable-lv2 --enable-omx --enable-openal --enable-opencl --enable-opengl --enable-sdl2 --enable-pocketsphinx --enable-librsvg --enable-libmfx --enable-libdc1394 --enable-libdrm --enable-libiec61883 --enable-chromaprint --enable-frei0r --enable-libx264 --enable-shared\n  libavutil      56. 70.100 / 56. 70.100\n  libavcodec     58.134.100 / 58.134.100\n  libavformat    58. 76.100 / 58. 76.100\n  libavdevice    58. 13.100 / 58. 13.100\n  libavfilter     7.110.100 /  7.110.100\n  libswscale      5.  9.100 /  5.  9.100\n  libswresample   3.  9.100 /  3.  9.100\n  libpostproc    55.  9.100 / 55.  9.100\nInput #0, mov,mp4,m4a,3gp,3g2,mj2, from '/kaggle/working/multimodal-video-trimming/dataset/EE-bNr36nyA.mp4':\n  Metadata:\n    major_brand     : isom\n    minor_version   : 512\n    compatible_brands: isomiso2avc1mp41\n    encoder         : Lavf55.48.100\n  Duration: 00:01:38.20, start: 0.000000, bitrate: 429 kb/s\n  Stream #0:0(und): Video: h264 (High) (avc1 / 0x31637661), yuv420p, 640x360, 293 kb/s, 29.97 fps, 29.97 tbr, 30k tbn, 59.94 tbc (default)\n    Metadata:\n      handler_name    : VideoHandler\n      vendor_id       : [0][0][0][0]\n  Stream #0:1(und): Audio: aac (LC) (mp4a / 0x6134706D), 44100 Hz, stereo, fltp, 128 kb/s (default)\n    Metadata:\n      handler_name    : SoundHandler\n      vendor_id       : [0][0][0][0]\nStream mapping:\n  Stream #0:1 -> #0:0 (aac (native) -> pcm_s16le (native))\nPress [q] to stop, [?] for help\nOutput #0, wav, to '/kaggle/working/multimodal-video-trimming/dataset/EE-bNr36nyA.wav':\n  Metadata:\n    major_brand     : isom\n    minor_version   : 512\n    compatible_brands: isomiso2avc1mp41\n    ISFT            : Lavf58.76.100\n  Stream #0:0(und): Audio: pcm_s16le ([1][0][0][0] / 0x0001), 44100 Hz, stereo, s16, 1411 kb/s (default)\n    Metadata:\n      handler_name    : SoundHandler\n      vendor_id       : [0][0][0][0]\n      encoder         : Lavc58.134.100 pcm_s16le\nsize=   16908kB time=00:01:38.12 bitrate=1411.5kbits/s speed= 556x    \nvideo:0kB audio:16908kB subtitle:0kB other streams:0kB global headers:0kB muxing overhead: 0.000451%\n\n=== Generating SRT File with cuda...\n\nModel was trained with pyannote.audio 0.0.1, yours is 3.3.2. Bad things might happen unless you revert pyannote.audio to 0.x.\nModel was trained with torch 1.10.0+cu102, yours is 2.5.1+cu121. Bad things might happen unless you revert torch to 1.x.\n\n=== paragraph sample\n\n--- Preview:\nAs extension educators, we get frequent phone calls concerning paper wasps and t...\n\n=== Summarizing Paragraph\n\nInput ids are automatically padded from 279 to 1024 to be a multiple of `config.attention_window`: 1024\n\n=== paragraph summarized\n\n--- Preview:\nAs extension educators, we get frequent phone calls concerning paper wasps and t...\n\n=== Simple Metrics\n\noriginal length: 1307\nsummary length: 374\nSummarized/Original Length Ratio: 0.71\n========================================\n Metric 1: Sentence-Summarized Relevancy\n======================================== \n\nInput ids are automatically padded to be a multiple of `config.attention_window`: 256\n========================================\n============ Postprocessing ============\n======================================== \n\n\n=== Experiment files exported.\n\n",
     "output_type": "stream"
    }
   ],
   "execution_count": null
  },
  {
   "cell_type": "markdown",
   "source": [
    "# Experiment 1 (Test)"
   ],
   "metadata": {}
  },
  {
   "cell_type": "code",
   "source": [
    "if not run_all_experiments_mode:\n",
    "    experiment = experiments[2]\n",
    "    \n",
    "    !python multimodal_video_summarization.py \\\n",
    "    --experiment_mode \\\n",
    "    --skip_nlp_downloads \\\n",
    "    --video_input {experiment} \\\n",
    "    --auto_summary_summary_length_percentage {AUTO_SUMMARY_SUMMARY_LENGTH_PERCENTAGE} \\\n",
    "    --auto_summary_min_summary_length {AUTO_SUMMARY_MIN_SUMMARY_LENGTH} \\\n",
    "    --auto_summary_max_summary_length {AUTO_SUMMARY_MAX_SUMMARY_LENGTH} \\\n",
    "    --deletion_metric_threshold {DELETION_METRIC_THRESHOLD} \\\n",
    "    --metric_1_model_size {METRIC_1_MODEL_SIZE} \\\n",
    "    --metric_1_weight {METRIC_1_WEIGHT} \\\n",
    "    --metric_2_weight {METRIC_2_WEIGHT} \\\n",
    "    --metric_2_min_scene_len {METRIC_2_MIN_SCENE_LEN} \\\n",
    "    --metric_2_threshold {METRIC_2_THRESHOLD}\n",
    "    \n",
    "    # !python multimodal_video_summarization.py --experiment_mode --skip_nlp_downloads --video_input {experiment}"
   ],
   "metadata": {
    "trusted": true,
    "execution": {
     "iopub.status.busy": "2025-02-21T20:48:33.133109Z",
     "iopub.status.idle": "2025-02-21T20:48:33.133353Z",
     "shell.execute_reply": "2025-02-21T20:48:33.133254Z"
    }
   },
   "outputs": [],
   "execution_count": null
  },
  {
   "cell_type": "markdown",
   "source": [
    "# Export"
   ],
   "metadata": {}
  },
  {
   "cell_type": "code",
   "source": [
    "# leave blank to use default experiment name\n",
    "custom_experiment_name = \"\""
   ],
   "metadata": {
    "trusted": true,
    "execution": {
     "iopub.status.busy": "2025-02-21T20:48:33.133879Z",
     "iopub.status.idle": "2025-02-21T20:48:33.134130Z",
     "shell.execute_reply": "2025-02-21T20:48:33.134031Z"
    }
   },
   "outputs": [],
   "execution_count": null
  },
  {
   "cell_type": "code",
   "source": [
    "# Use default experiment name if custom name is blank\n",
    "if len(custom_experiment_name) > 0:\n",
    "    export_dir = os.path.join(project_dir, custom_experiment_name)\n",
    "else:\n",
    "    experiment_name = f\"experiment_m1w-{METRIC_1_WEIGHT}_m2w-{METRIC_2_WEIGHT}_mdt-{DELETION_METRIC_THRESHOLD}\"\n",
    "    export_dir = os.path.join(project_dir, experiment_name)\n",
    "\n",
    "# Export experiment to unique filename\n",
    "if not os.path.exists(export_dir):\n",
    "    os.makedirs(export_dir, exist_ok=False)\n",
    "\n",
    "    # Copy only .csv and .json files\n",
    "    for file in os.listdir(dataset_dir):\n",
    "        if file.endswith(\".csv\") or file.endswith(\".json\"):\n",
    "            shutil.copy(os.path.join(dataset_dir, file), os.path.join(export_dir, file))\n",
    "    \n",
    "    shutil.make_archive(export_dir, 'zip', export_dir)\n",
    "    print(f\"zip ready: {export_dir}.zip\")\n",
    "else:\n",
    "    print(f\"The directory {export_dir} already exists.\\n\\nPlease rename the experiment.\")"
   ],
   "metadata": {
    "trusted": true,
    "execution": {
     "iopub.status.busy": "2025-02-21T20:48:33.134827Z",
     "iopub.status.idle": "2025-02-21T20:48:33.135153Z",
     "shell.execute_reply": "2025-02-21T20:48:33.135044Z"
    }
   },
   "outputs": [],
   "execution_count": null
  }
 ]
}
