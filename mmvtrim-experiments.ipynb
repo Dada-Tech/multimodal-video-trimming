{
 "metadata": {
  "kernelspec": {
   "language": "python",
   "display_name": "Python 3",
   "name": "python3"
  },
  "language_info": {
   "name": "python",
   "version": "3.10.12",
   "mimetype": "text/x-python",
   "codemirror_mode": {
    "name": "ipython",
    "version": 3
   },
   "pygments_lexer": "ipython3",
   "nbconvert_exporter": "python",
   "file_extension": ".py"
  },
  "kaggle": {
   "accelerator": "none",
   "dataSources": [
    {
     "sourceId": 10808181,
     "sourceType": "datasetVersion",
     "datasetId": 6709099
    }
   ],
   "dockerImageVersionId": 30886,
   "isInternetEnabled": true,
   "language": "python",
   "sourceType": "notebook",
   "isGpuEnabled": false
  }
 },
 "nbformat_minor": 4,
 "nbformat": 4,
 "cells": [
  {
   "cell_type": "markdown",
   "source": [
    "# Multimodal Video Trimming - Experiments"
   ],
   "metadata": {}
  },
  {
   "cell_type": "code",
   "source": [
    "# set to false to run all experiments\n",
    "single_experiment_test_mode = False"
   ],
   "metadata": {
    "trusted": true
   },
   "outputs": [],
   "execution_count": null
  },
  {
   "cell_type": "markdown",
   "source": [
    "# Hyperparameters"
   ],
   "metadata": {}
  },
  {
   "cell_type": "code",
   "source": [
    "# Auto Summary\n",
    "AUTO_SUMMARY_SUMMARY_LENGTH_PERCENTAGE = 0.2 # Min: 0.2, Max: 0.5\n",
    "AUTO_SUMMARY_MIN_SUMMARY_LENGTH = 40         # Min: 30, Max: 60\n",
    "AUTO_SUMMARY_MAX_SUMMARY_LENGTH = 500        # Min: 100, Max: 1000\n",
    "\n",
    "# Deletion Metric\n",
    "DELETION_METRIC_THRESHOLD = 0.2              # Min: 0.05, Max: 0.5\n",
    "\n",
    "# Metric 1\n",
    "METRIC_1_MODEL_SIZE = \"base\"                 # \"base\", \"large\"\n",
    "METRIC_1_WEIGHT = 0.9                        # Min: 0.0, Max: 1.0\n",
    "\n",
    "# Metric 2\n",
    "METRIC_2_WEIGHT = 0.2                        # Min: 0.0, Max: 1.0\n",
    "METRIC_2_MIN_SCENE_LEN = 33                  # Min: 15, Max: 9000\n",
    "METRIC_2_THRESHOLD = 20                      # Min: 10, Max: 50\n",
    "\n",
    "\n",
    "## --- DEFAULTS ---\n",
    "# DELETION_METRIC_THRESHOLD = 0.2\n",
    "\n",
    "# METRIC_1_WEIGHT = 1.0\n",
    "# METRIC_1_MODEL_SIZE = \"base\"\n",
    "\n",
    "# METRIC_2_WEIGHT = 0.3\n",
    "# METRIC_2_MIN_SCENE_LEN = 15\n",
    "# METRIC_2_THRESHOLD = 25\n",
    "\n",
    "# AUTO_SUMMARY_SUMMARY_LENGTH_PERCENTAGE = 0.3\n",
    "# AUTO_SUMMARY_MIN_SUMMARY_LENGTH = 30\n",
    "# AUTO_SUMMARY_MAX_SUMMARY_LENGTH = 600"
   ],
   "metadata": {
    "trusted": true
   },
   "outputs": [],
   "execution_count": null
  },
  {
   "cell_type": "markdown",
   "source": [
    "# Environment Setup"
   ],
   "metadata": {}
  },
  {
   "cell_type": "code",
   "source": [
    "import os\n",
    "import shutil\n",
    "from IPython.display import clear_output"
   ],
   "metadata": {
    "trusted": true
   },
   "outputs": [],
   "execution_count": null
  },
  {
   "cell_type": "code",
   "source": [
    "# Update installers\n",
    "!pip install --upgrade pip\n",
    "!sudo apt-get update"
   ],
   "metadata": {
    "trusted": true
   },
   "outputs": [],
   "execution_count": null
  },
  {
   "cell_type": "code",
   "source": [
    "# ffmpeg\n",
    "!sudo apt-get install -y ffmpeg"
   ],
   "metadata": {
    "trusted": true
   },
   "outputs": [],
   "execution_count": null
  },
  {
   "cell_type": "markdown",
   "source": [
    "# Clone Project"
   ],
   "metadata": {}
  },
  {
   "cell_type": "code",
   "source": [
    "project_dir = '/kaggle/working/multimodal-video-trimming'\n",
    "\n",
    "# Check if the directory exists\n",
    "if os.path.exists(project_dir):\n",
    "    # Change to the project directory\n",
    "    os.chdir(project_dir)\n",
    "    # Pull the latest changes from the repository\n",
    "    !git pull origin main  # Replace \"main\" with your branch name if different\n",
    "else:\n",
    "    # Clone the project if it doesn't exist\n",
    "    !git clone https://github.com/Dada-Tech/multimodal-video-trimming.git\n",
    "    # Change to the project directory\n",
    "    os.chdir(project_dir)"
   ],
   "metadata": {
    "trusted": true
   },
   "outputs": [],
   "execution_count": null
  },
  {
   "cell_type": "code",
   "source": [
    "# Install requirements\n",
    "!pip install -r requirements.txt"
   ],
   "metadata": {
    "trusted": true
   },
   "outputs": [],
   "execution_count": null
  },
  {
   "cell_type": "markdown",
   "source": [
    "## MMVTrim NLP Dependencies Download"
   ],
   "metadata": {}
  },
  {
   "cell_type": "code",
   "source": [
    "import nltk\n",
    "import spacy"
   ],
   "metadata": {
    "trusted": true
   },
   "outputs": [],
   "execution_count": null
  },
  {
   "cell_type": "code",
   "source": [
    "# NLP Libraries\n",
    "nltk.download('punkt')\n",
    "nltk.download('punkt_tab')\n",
    "\n",
    "# Load the spaCy model\n",
    "spacy.cli.download(\"en_core_web_sm\")"
   ],
   "metadata": {
    "trusted": true
   },
   "outputs": [],
   "execution_count": null
  },
  {
   "cell_type": "markdown",
   "source": [
    "# Experiements Setup"
   ],
   "metadata": {}
  },
  {
   "cell_type": "code",
   "source": [
    "# Directory containing the video files\n",
    "video_dir = '/kaggle/input/tvsum50/tvsum50/video'\n",
    "\n",
    "# List all files in the directory\n",
    "all_files = os.listdir(video_dir)\n",
    "\n",
    "# Filter to get only video files (assuming .mp4, .avi, and .mov as examples)\n",
    "experiment_videos = [f for f in all_files if f.endswith(('.mp4', '.avi', '.mov'))]\n",
    "experiment_videos.sort()\n",
    "\n",
    "print(f\"videos loaded: {len(experiment_videos)}\")"
   ],
   "metadata": {
    "trusted": true
   },
   "outputs": [],
   "execution_count": null
  },
  {
   "cell_type": "code",
   "source": [
    "# copy to working dir 'dataset'\n",
    "shutil.copytree(video_dir, '/kaggle/working/multimodal-video-trimming/dataset')\n",
    "\n",
    "experiments = [os.path.join('dataset', exp) for exp in experiment_videos]"
   ],
   "metadata": {
    "trusted": true
   },
   "outputs": [],
   "execution_count": null
  },
  {
   "cell_type": "markdown",
   "source": [
    "# Run Experiments (All)"
   ],
   "metadata": {}
  },
  {
   "cell_type": "code",
   "source": [
    "if not single_experiment_test_mode:\n",
    "    for experiment in experiments:\n",
    "        clear_output(wait=True) # clear output\n",
    "    \n",
    "        !python multimodal_video_summarization.py \\\n",
    "        --experiment_mode \\\n",
    "        --skip_nlp_downloads \\\n",
    "        --video_input {experiment} \\\n",
    "        --auto_summary_summary_length_percentage {AUTO_SUMMARY_SUMMARY_LENGTH_PERCENTAGE} \\\n",
    "        --auto_summary_min_summary_length {AUTO_SUMMARY_MIN_SUMMARY_LENGTH} \\\n",
    "        --auto_summary_max_summary_length {AUTO_SUMMARY_MAX_SUMMARY_LENGTH} \\\n",
    "        --deletion_metric_threshold {DELETION_METRIC_THRESHOLD} \\\n",
    "        --metric_1_model_size {METRIC_1_MODEL_SIZE} \\\n",
    "        --metric_1_weight {METRIC_1_WEIGHT} \\\n",
    "        --metric_2_weight {METRIC_2_WEIGHT} \\\n",
    "        --metric_2_min_scene_len {METRIC_2_MIN_SCENE_LEN} \\\n",
    "        --metric_2_threshold {METRIC_2_THRESHOLD}"
   ],
   "metadata": {
    "trusted": true
   },
   "outputs": [],
   "execution_count": null
  },
  {
   "cell_type": "markdown",
   "source": [
    "# Experiment 1 (Test)"
   ],
   "metadata": {}
  },
  {
   "cell_type": "code",
   "source": [
    "if single_experiment_test_mode:\n",
    "    experiment = experiments[2]\n",
    "    \n",
    "    !python multimodal_video_summarization.py \\\n",
    "    --experiment_mode \\\n",
    "    --skip_nlp_downloads \\\n",
    "    --video_input {experiment} \\\n",
    "    --auto_summary_summary_length_percentage {AUTO_SUMMARY_SUMMARY_LENGTH_PERCENTAGE} \\\n",
    "    --auto_summary_min_summary_length {AUTO_SUMMARY_MIN_SUMMARY_LENGTH} \\\n",
    "    --auto_summary_max_summary_length {AUTO_SUMMARY_MAX_SUMMARY_LENGTH} \\\n",
    "    --deletion_metric_threshold {DELETION_METRIC_THRESHOLD} \\\n",
    "    --metric_1_model_size {METRIC_1_MODEL_SIZE} \\\n",
    "    --metric_1_weight {METRIC_1_WEIGHT} \\\n",
    "    --metric_2_weight {METRIC_2_WEIGHT} \\\n",
    "    --metric_2_min_scene_len {METRIC_2_MIN_SCENE_LEN} \\\n",
    "    --metric_2_threshold {METRIC_2_THRESHOLD}\n",
    "    \n",
    "    # !python multimodal_video_summarization.py --experiment_mode --skip_nlp_downloads --video_input {experiment}"
   ],
   "metadata": {
    "trusted": true
   },
   "outputs": [],
   "execution_count": null
  }
 ]
}
